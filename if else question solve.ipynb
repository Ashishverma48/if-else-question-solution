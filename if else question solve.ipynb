{
 "cells": [
  {
   "cell_type": "markdown",
   "id": "ffc4c8ec",
   "metadata": {},
   "source": [
    "# if else question\n"
   ]
  },
  {
   "cell_type": "code",
   "execution_count": 1,
   "id": "3d6b1290",
   "metadata": {},
   "outputs": [
    {
     "name": "stdout",
     "output_type": "stream",
     "text": [
      "Enter The Salary :  1000\n",
      "Enter Year Of Service : 6\n",
      "Bonus is :  50.0\n",
      "Total Salary is :  1050.0\n"
     ]
    }
   ],
   "source": [
    "# a company decide to give 5% bonus to \n",
    "# his year of service is more than 5 year\n",
    "salary = int(input(\"Enter The Salary :  \"))\n",
    "year_of_service = int(input(\"Enter Year Of Service : \"))\n",
    "if year_of_service >5:\n",
    "    bonus = (salary*5)/100\n",
    "    print(\"Bonus is : \",bonus)\n",
    "    total_salary = salary+bonus\n",
    "    print(\"Total Salary is : \",total_salary)\n",
    "else:\n",
    "    print(\"No Bonus : \",salary)"
   ]
  },
  {
   "cell_type": "code",
   "execution_count": 3,
   "id": "f2f1c5f8",
   "metadata": {},
   "outputs": [
    {
     "name": "stdout",
     "output_type": "stream",
     "text": [
      "Enter The First Number :  10\n",
      "Enter The Second Number : 20\n",
      "second Number Is Greater :   20\n"
     ]
    }
   ],
   "source": [
    "# gteatest number in two \n",
    "num1 = int(input('Enter The First Number :  '))\n",
    "num2 = int(input('Enter The Second Number : '))\n",
    "if num1>num2:\n",
    "    print(\"First Number Is Greater :  \",num1)\n",
    "else:\n",
    "    print(\"second Number Is Greater :  \",num2)"
   ]
  },
  {
   "cell_type": "code",
   "execution_count": 3,
   "id": "b54099c7",
   "metadata": {},
   "outputs": [
    {
     "name": "stdout",
     "output_type": "stream",
     "text": [
      "Enter The Purchase Quantity : 20000000\n",
      "Discount is :  2000000.0\n",
      "Total Cost is :  1998000000.0\n"
     ]
    }
   ],
   "source": [
    "# a shop give discount 10% if the purchase quantity is more than 1000\n",
    "# 1 unit price is 100\n",
    "quantity = int(input(\"Enter The Purchase Quantity : \"))\n",
    "if quantity>1000:\n",
    "    discount = (quantity*10)/100\n",
    "    print('Discount is : ',discount)\n",
    "    total_cost = (quantity*100)-discount\n",
    "    print(\"Total Cost is : \",total_cost)\n",
    "else:\n",
    "    print(\"Mo discount\")"
   ]
  },
  {
   "cell_type": "code",
   "execution_count": 6,
   "id": "eb49a73a",
   "metadata": {},
   "outputs": [
    {
     "name": "stdout",
     "output_type": "stream",
     "text": [
      "Enter The Marks : 25\n",
      "E\n"
     ]
    }
   ],
   "source": [
    "# school grading system\n",
    "mark = int(input(\"Enter The Marks : \"))\n",
    "if mark>=80:\n",
    "    print(\"A\")\n",
    "elif mark>=60 and mark<80:\n",
    "    print(\"B\")\n",
    "elif mark>=50 and mark<60:\n",
    "    print(\"C\")\n",
    "elif mark>=45 and mark<50:\n",
    "    print(\"D\")\n",
    "elif mark>=25 and mark<45:\n",
    "    print(\"E\")\n",
    "elif mark<25:\n",
    "    print(\"F\")"
   ]
  },
  {
   "cell_type": "code",
   "execution_count": 9,
   "id": "7f845636",
   "metadata": {},
   "outputs": [
    {
     "name": "stdout",
     "output_type": "stream",
     "text": [
      "Enter The Total Number Of Class -- 600\n",
      "Enter The Class Attend -- 500\n",
      "Percentage is -  83.33333333333334\n",
      "Allow In Exam\n"
     ]
    }
   ],
   "source": [
    "# a student alloe exam if his attendence is more than 75\n",
    "class_held = int(input(\"Enter The Total Number Of Class -- \"))\n",
    "class_attend = int(input(\"Enter The Class Attend -- \"))\n",
    "per = (class_attend/class_held)*100\n",
    "print(\"Percentage is - \",per)\n",
    "if per>75:\n",
    "    print(\"Allow In Exam\")\n",
    "else:\n",
    "    print(\"No Allow In Exam\")"
   ]
  },
  {
   "cell_type": "code",
   "execution_count": 10,
   "id": "e584e5e6",
   "metadata": {},
   "outputs": [
    {
     "name": "stdout",
     "output_type": "stream",
     "text": [
      "Enter The Total Number Of Class -- 100\n",
      "Enter The Class Attend -- 11\n",
      "Percentage is -  11.0\n",
      "No Allow In Exam\n",
      "Enter The Medical Cause Y or N - y\n",
      "Allow To Medical Cause \n"
     ]
    }
   ],
   "source": [
    "class_held = int(input(\"Enter The Total Number Of Class -- \"))\n",
    "class_attend = int(input(\"Enter The Class Attend -- \"))\n",
    "per = (class_attend/class_held)*100\n",
    "print(\"Percentage is - \",per)\n",
    "if per>75:\n",
    "    print(\"Allow In Exam\")\n",
    "else:\n",
    "    print(\"No Allow In Exam\")\n",
    "    medical = input(\"Enter The Medical Cause Y or N - \")\n",
    "    if medical == 'y':\n",
    "        print(\"Allow To Medical Cause \")\n",
    "    else:\n",
    "        print(\"Not Allow\")"
   ]
  },
  {
   "cell_type": "code",
   "execution_count": null,
   "id": "a09854ba",
   "metadata": {},
   "outputs": [],
   "source": []
  }
 ],
 "metadata": {
  "kernelspec": {
   "display_name": "Python 3 (ipykernel)",
   "language": "python",
   "name": "python3"
  },
  "language_info": {
   "codemirror_mode": {
    "name": "ipython",
    "version": 3
   },
   "file_extension": ".py",
   "mimetype": "text/x-python",
   "name": "python",
   "nbconvert_exporter": "python",
   "pygments_lexer": "ipython3",
   "version": "3.9.13"
  }
 },
 "nbformat": 4,
 "nbformat_minor": 5
}
